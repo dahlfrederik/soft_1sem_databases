{
 "cells": [
  {
   "cell_type": "markdown",
   "id": "ce52680d",
   "metadata": {},
   "source": [
    "# Database connection"
   ]
  },
  {
   "cell_type": "code",
   "execution_count": 1,
   "id": "4c66e55d",
   "metadata": {},
   "outputs": [],
   "source": [
    "import psycopg2\n",
    "import smtplib, ssl\n",
    "from email.mime.text import MIMEText\n",
    "from email.mime.multipart import MIMEMultipart"
   ]
  },
  {
   "cell_type": "code",
   "execution_count": 13,
   "id": "8cc8089c",
   "metadata": {},
   "outputs": [
    {
     "name": "stdout",
     "output_type": "stream",
     "text": [
      "Connection established to:  ('PostgreSQL 14.1 (Debian 14.1-1.pgdg110+1) on x86_64-pc-linux-gnu, compiled by gcc (Debian 10.2.1-6) 10.2.1 20210110, 64-bit',)\n",
      "Result from DB:  (1, 'Panodil', 'John', 'Patient Doe', 'something@something.com', 'John', 'Doctor Doe')\n"
     ]
    }
   ],
   "source": [
    "# establishing the connection\n",
    "# Docker is port 5555 | Localhost is 5432\n",
    "conn = psycopg2.connect(\n",
    "    database=\"postgres\", user='postgres', password='james123.', host='127.0.0.1', port='5432'\n",
    ")\n",
    "# Creating a cursor object using the cursor() method\n",
    "cursor = conn.cursor()\n",
    "\n",
    "# Executing an MYSQL function using the execute() method\n",
    "cursor.execute(\"select version()\")\n",
    "\n",
    "# Fetch a single row using fetchone() method.\n",
    "data = cursor.fetchone()\n",
    "print(\"Connection established to: \", data)\n",
    "\n",
    "query = \"\"\"\\\n",
    "SELECT handouts, medicin_name,\n",
    "patient_inf.first_name AS patientFirst, patient_inf.last_name AS patientLast, patient_inf.email,\n",
    "doctor_inf.first_name AS doctorFirst, doctor_inf.last_name AS doctorLast\n",
    "FROM assignment2.prescription p \n",
    "JOIN assignment2.patients p2 ON p.patient_id = p2.cpr\n",
    "JOIN assignment2.doctors d ON p.doctor_id = d.cpr\n",
    "JOIN assignment2.persons patient_inf ON patient_inf.cpr = p2.cpr \n",
    "JOIN assignment2.persons doctor_inf ON doctor_inf.cpr = d.cpr \n",
    "WHERE p.patient_id = '010100001';\"\"\"\n",
    "\n",
    "\n",
    "cursor.execute(query)\n",
    "data = cursor.fetchone()\n",
    "if data:\n",
    "    handouts_count = data[0]\n",
    "    patient_name = data[2] + \" \" + data[3]\n",
    "    patient_email = data[4]\n",
    "    medicin_name = data[1]\n",
    "    doctor_name = data[5] + \" \" + data[6]\n",
    "\n",
    "print(\"Result from DB: \", data)\n",
    "\n",
    "# Closing the connection\n",
    "conn.close()"
   ]
  },
  {
   "cell_type": "code",
   "execution_count": 14,
   "id": "fab53d23",
   "metadata": {},
   "outputs": [],
   "source": [
    "# Send email\n",
    "sender_email = \"my@gmail.com\"\n",
    "receiver_email = patient_email\n",
    "password = \"hemmelig123\"\n",
    "\n",
    "if handouts_count <=1:\n",
    "    message = MIMEMultipart(\"alternative\")\n",
    "    message[\"Subject\"] = \"You need more drugs.\"\n",
    "    message[\"From\"] = sender_email\n",
    "    message[\"To\"] = receiver_email\n",
    "\n",
    "    # Create the plain-text and HTML version of your message\n",
    "    html = \"\"\"\\\n",
    "    <html>\n",
    "      <body>\n",
    "        <p>Hi, {}<br>\n",
    "           you are running low on {}<br>\n",
    "            Please contact doctor {} to get more.<br>\n",
    "        </p>\n",
    "      </body>\n",
    "    </html>\"\"\".format(patient_name, medicin_name, doctor_name)\n",
    "    \n",
    "\n",
    "\n",
    "    # Turn these into plain/html MIMEText objects\n",
    "    content = MIMEText(html, \"html\")\n",
    "\n",
    "    # Add HTML/plain-text parts to MIMEMultipart message\n",
    "    # The email client will try to render the last part first\n",
    "    message.attach(content)\n",
    "\n",
    "    # Create secure connection with server and send email\n",
    "    context = ssl.create_default_context()\n",
    "    with smtplib.SMTP(\"smtp.freesmtpservers.com\", 25) as server:\n",
    "        server.connect(\"smtp.freesmtpservers.com\", 25)\n",
    "        server.sendmail(\n",
    "            sender_email, receiver_email, message.as_string()\n",
    "        )\n",
    "        server.quit()\n"
   ]
  }
 ],
 "metadata": {
  "kernelspec": {
   "display_name": "Python 3 (ipykernel)",
   "language": "python",
   "name": "python3"
  },
  "language_info": {
   "codemirror_mode": {
    "name": "ipython",
    "version": 3
   },
   "file_extension": ".py",
   "mimetype": "text/x-python",
   "name": "python",
   "nbconvert_exporter": "python",
   "pygments_lexer": "ipython3",
   "version": "3.9.7"
  }
 },
 "nbformat": 4,
 "nbformat_minor": 5
}
