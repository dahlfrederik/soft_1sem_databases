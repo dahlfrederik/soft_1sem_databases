{
 "cells": [
  {
   "cell_type": "markdown",
   "id": "a5190f6d",
   "metadata": {},
   "source": [
    "# DATABASE HANDIN 3 (4) HBase\n",
    "\n",
    "\n",
    "\n",
    "### Readme \n",
    "\n",
    "1. Go to the official HBase docker github following this [link](https://github.com/big-data-europe/docker-hbase) and clone the repository. We named the folder `docker-hbase`. Make sure that you have a docker installation. \n",
    "2. Go to the cloned folder and open the `docker-compose-distributed-local.yml` file in your favorite texteditor. In the file scroll down to the hbase-master block and change the ports to: \n",
    "\t`- 16010:9090`\n",
    "Make sure that you save your changes. \n",
    "3. In the cloned folder go to the folder called hmaster and open the file called: `Dockerfile` in your texteditor. Update the expose part to look like this. `EXPOSE 9090 16000 16010`. Save it and close the texteditor. \n",
    "4. Open a CLI window in the main folder `docker-hbase` and run the following docker command: \n",
    "`docker-compose -f docker-compose-distributed-local.yml up -d`\n",
    "5. Open a CLI window using the docker UI in the hbase-master docker environment. \n",
    "From here run the command: `hbase thrift start`. \n",
    "6. Download the dataset from [MyPyramid Raw Food](https://catalog.data.gov/dataset/mypyramid-food-raw-data) and place in a folder called `myfoodapediadata`. \n",
    "7. In this jupyter file make sure that the path to the `Food_Display_Table.xlsx` file is correct. \n",
    "8. Run the program and watch the magic happen. You have now inserted a lot of data. \n",
    "9. Open a new CLI window in the hbase-master docker environment and run the command `hbase shell`. Now it is possible to do all the queries you can imagine. [See the HBase documentation for inspiration](https://hbase.apache.org/book.html). \n",
    "\n",
    "\n",
    "\n",
    "\n",
    "\n"
   ]
  },
  {
   "cell_type": "code",
   "execution_count": null,
   "id": "6e7fea31",
   "metadata": {},
   "outputs": [],
   "source": [
    "import happybase\n",
    "import pandas as pd\n",
    "\n",
    "#Import the data\n",
    "food = pd.read_excel('../myfoodapediadata/Food_Display_Table.xlsx')\n",
    "\n",
    "#Connect to the database\n",
    "connection = happybase.Connection('localhost', port=16010)\n",
    "table = connection.table('foods')\n",
    "\n",
    "#Choosing family\n",
    "family = 'facts'\n",
    "\n",
    "#Getting the columns\n",
    "c = food.columns\n",
    "\n",
    "food.head()\n",
    "\n",
    "#insert values\n",
    "for index, row in food.iterrows():\n",
    "    row_key = row[c[0]]\n",
    "    for col in c[1:]:\n",
    "        table.put(str(row_key), {family + ':' + col: str(row[col])})\n"
   ]
  },
  {
   "cell_type": "markdown",
   "id": "d36a4c59",
   "metadata": {},
   "source": []
  }
 ],
 "metadata": {
  "kernelspec": {
   "display_name": "Python 3 (ipykernel)",
   "language": "python",
   "name": "python3"
  },
  "language_info": {
   "codemirror_mode": {
    "name": "ipython",
    "version": 3
   },
   "file_extension": ".py",
   "mimetype": "text/x-python",
   "name": "python",
   "nbconvert_exporter": "python",
   "pygments_lexer": "ipython3",
   "version": "3.8.5"
  }
 },
 "nbformat": 4,
 "nbformat_minor": 5
}
